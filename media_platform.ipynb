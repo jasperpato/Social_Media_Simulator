{
 "cells": [
  {
   "cell_type": "markdown",
   "metadata": {},
   "source": [
    "If necessary, create a virtual environment and install the required packages below."
   ]
  },
  {
   "cell_type": "code",
   "execution_count": null,
   "metadata": {},
   "outputs": [],
   "source": [
    "!python3 -m venv venv\n",
    "!source venv/bin/activate\n",
    "!pip3 install numpy\n",
    "!pip3 install matplotlib"
   ]
  },
  {
   "cell_type": "code",
   "execution_count": null,
   "metadata": {},
   "outputs": [],
   "source": [
    "import json\n",
    "import matplotlib.pyplot as plt\n",
    "import numpy as np\n",
    "import sys\n",
    "import math\n",
    "import json"
   ]
  },
  {
   "cell_type": "markdown",
   "metadata": {},
   "source": [
    "Below, we plot the confirmation bias model we used for individual agents."
   ]
  },
  {
   "cell_type": "code",
   "execution_count": null,
   "metadata": {},
   "outputs": [],
   "source": [
    "def plot_model(b, ax):\n",
    "\t'''\n",
    "\tDisplays a representation of our agents' behaviour when consuming a post.\n",
    "\t'''\n",
    "\n",
    "\tx = 2-b\n",
    "\ty = 1 - x/2\n",
    "\n",
    "\tax.plot((0, x), (1, y), color='blue')\n",
    "\tax.plot((x, 2), (y, 0), linestyle='dashed', color='blue')\n",
    "\n",
    "\tif b:\n",
    "\t\tax.plot((x, 2), (y, 1), color='red')\n",
    "\n",
    "\t\tax.plot((x, 2), (0, 0), color='green')\n",
    "\t\tax.plot((x, x), (-0.05, 0.05), color='green')\n",
    "\t\tax.plot((2, 2), (-0.05, 0.05), color='green')\n",
    "\t\tax.text((2+x)/2, -0.075, 'B', color='green', fontsize=10)\n",
    "\n",
    "\tax.set_title(f'Confirmation Bias Model (B = {b})', fontsize=12)"
   ]
  },
  {
   "cell_type": "code",
   "execution_count": null,
   "metadata": {},
   "outputs": [],
   "source": [
    "fig, axs = plt.subplots(2, 2, figsize=(14, 8), sharex=True, sharey=True)\n",
    "\n",
    "plot_model(0, axs[0, 0])\n",
    "plot_model(1, axs[0, 1])\n",
    "plot_model(0.75, axs[1, 0])\n",
    "plot_model(0.25, axs[1, 1])\n",
    "\n",
    "fig.text(0.5, 0.04, 'Difference in opinion, d', ha='center', fontsize=12)\n",
    "fig.text(0.08, 0.5, 'Probability of strengthening opinion, P(S)', va='center', rotation='vertical', fontsize=12)"
   ]
  },
  {
   "cell_type": "markdown",
   "metadata": {},
   "source": [
    "Default global parameters are set below."
   ]
  },
  {
   "cell_type": "code",
   "execution_count": null,
   "metadata": {},
   "outputs": [],
   "source": [
    "# ----------------- simulation parameters ----------------------#\n",
    "\n",
    "NUM_AGENTS = 500\n",
    "NUM_TIME_STEPS = 1000\n",
    "NUM_SIMULATIONS = 500\n",
    "POLARISATION_CUTOFF = 0.75\t# agents with opinions outside [-cutoff, cutoff] are considered polarised\n",
    "CONVERGENCE_NUM = 10\t\t\t  # number of time steps with no change to end the simulation\n",
    "\n",
    "# ----------------- default hyperparameters ---------------------------#\n",
    "\n",
    "B = 0.3 \t# agent bias\n",
    "P = 0.5\t\t# proportion of posting agents\n",
    "N = 0\t\t  # standard deviation of Gaussian noise applied to posts\n",
    "C = 0.1\t\t# proportion of posts consumed per day\n",
    "D = 0.1\t\t# change in agent's opinion due to a post\n",
    "PB = 1\t\t# platform bias\n",
    "RB = 1\t\t# recommendation bias"
   ]
  },
  {
   "cell_type": "markdown",
   "metadata": {},
   "source": [
    "Below is the implementation of our model."
   ]
  },
  {
   "cell_type": "code",
   "execution_count": null,
   "metadata": {},
   "outputs": [],
   "source": [
    "class MediaPlatform():\n",
    "\t'''\n",
    "\tThe implementation of our model.\n",
    "\tThe media platforms maintains a list of agents that consume posts and change their opinion each time step.\n",
    "\t'''\n",
    "\n",
    "\tdef __init__(self, b=B, p=P, n=N, c=C, d=D, pb=PB, rb=RB, poster_dist='uniform', verbose=False):\n",
    "\t\tself.b = b\t\t\t\t# agent bias\n",
    "\t\tself.p = p\t\t\t\t# proportion of posting agents\n",
    "\t\tself.n = n\t\t\t\t# standard deviation of Gaussian noise applied to posts\n",
    "\t\tself.c = c\t\t\t\t# proportion of generated posts consumed per day\n",
    "\t\tself.d = d\t\t\t\t# amount opinions are strengthed/weakened by\n",
    "\t\tself.pb = pb\t\t\t# platform bias\n",
    "\t\tself.rb = rb\t\t\t# recommendation bias\n",
    "\t\t\n",
    "\t\tself.verbose = verbose\n",
    "\n",
    "\t\tself.num_posters = round(P * NUM_AGENTS)\n",
    "\t\tself.posts_per_day = round(C * self.num_posters)\n",
    "\n",
    "\t\tself.num_same = 0\n",
    "\t\t[self.platform_opinion] = np.random.choice([-1, 1], 1)\n",
    "\n",
    "\t\tself.m = 0\n",
    "\t\tself.c = 0\n",
    "\n",
    "\t\t# confirmation bias model parameters\n",
    "\t\tif self.b > 0:\n",
    "\t\t\tself.m = (2 - b) / (2 * b)\n",
    "\t\t\tself.c = 1 - 2 * self.m\n",
    "\n",
    "\t\tself.agent_opinions = np.zeros(NUM_AGENTS)\n",
    "\n",
    "\t\tif poster_dist == 'uniform':\n",
    "\t\t\tself.agent_opinions[:self.num_posters] = np.random.uniform(-1, 1, self.num_posters)\n",
    "\n",
    "\t\telse:\n",
    "\t\t\topinions = np.linspace(-1, 1, 100)\n",
    "\t\t\tif poster_dist == 'bimodal':\n",
    "\t\t\t\tprobs = np.cos((opinions + 1) / 2 * np.pi) ** 2\n",
    "\n",
    "\t\t\telif poster_dist == 'centered':\n",
    "\t\t\t\tprobs = np.cos(opinions / 2 * np.pi) ** 2\n",
    "\n",
    "\t\t\telif poster_dist == 'skewed':\n",
    "\t\t\t\t# skew away from platform opinion\n",
    "\t\t\t\tskew_direction = math.copysign(1, self.platform_opinion)\n",
    "\t\t\t\tprobs = np.cos((opinions + skew_direction) / 4 * np.pi) ** 2\n",
    "\n",
    "\t\t\telse:\n",
    "\t\t\t\traise ValueError('Invalid poster distribution')\n",
    "\t\t\t\n",
    "\t\t\tprobs /= np.sum(probs)\n",
    "\t\t\tself.agent_opinions[:self.num_posters] = np.random.choice(opinions, self.num_posters, p=probs)\n",
    "\t\t\t\n",
    "\t\tself.agent_opinions[self.num_posters:] = np.random.uniform(-1, 1, NUM_AGENTS - self.num_posters)\n",
    "\t\tself.t_agent_opinion = self.agent_opinions.copy()\n",
    "\t\tself.prev_opinions = self.agent_opinions.copy()\n",
    "\t\tself.t = 0\n",
    "\n",
    "\n",
    "\tdef change_agent_opinions(self, posts):\n",
    "\t\t'''\n",
    "\t\tChanges each agents' opinion in a time step based on the posts they receive.\n",
    "\t\t'''\n",
    "\n",
    "\t\tdiff = np.abs(posts - self.agent_opinions)\n",
    "\t\tstrengthen_probs = np.zeros(NUM_AGENTS)\n",
    "\t\t\n",
    "\t\tfun1 = diff <= 2 - self.b\n",
    "\t\tfun2 = diff > 2 - self.b\n",
    "\n",
    "\t\tstrengthen_probs[fun1] = 1 - diff[fun1] / 2\n",
    "\t\tstrengthen_probs[fun2] = self.m * diff[fun2] + self.c\n",
    "\n",
    "\t\tstrengthened = np.random.random(NUM_AGENTS) < strengthen_probs\n",
    "\t\tself.agent_opinions[strengthened] += np.sign(self.agent_opinions[strengthened]) * self.d\t  # strengthen opinions\n",
    "\t\tself.agent_opinions[~strengthened] -= np.sign(self.agent_opinions[~strengthened]) * self.d\t# weaken opinions\n",
    "\t\tself.agent_opinions = np.clip(self.agent_opinions, -1, 1)\n",
    "\t\t\n",
    "\t\t\n",
    "\tdef serve_posts(self):\n",
    "\t\t'''\n",
    "\t\tReturns the creator to consumer (CTC) matrix that scores each post for each agent.\n",
    "\t\t'''\n",
    "\n",
    "\t\tctc = np.zeros((self.num_posters, NUM_AGENTS)) # creator to consumer matrix\n",
    "\t\tctc = ctc + np.reshape(self.posts, (self.num_posters, 1))\n",
    "             \n",
    "\t\t# calculate similarity between creator and consumer opinions\n",
    "\t\tctc_consumer_sim = 1 - np.abs(ctc - self.agent_opinions) / 2 + sys.float_info.epsilon\n",
    "\n",
    "\t\t# calculate similarity between creator and platform opinions\n",
    "\t\tctc_platform_sim = 1 - np.abs(ctc - self.platform_opinion) / 2 + sys.float_info.epsilon\n",
    "            \n",
    "\t\tctc = self.pb * ctc_platform_sim + self.rb * ctc_consumer_sim\n",
    "\t\tctc = ctc / np.max(ctc, axis=0, keepdims=True) # normalize with max of each agent's posts\n",
    "\t\tctc[np.diag_indices(self.num_posters)] = 0     # posters should not consume their own posts\n",
    "\t\treturn ctc\n",
    "\n",
    "\n",
    "\tdef time_step(self):\n",
    "\t\t'''\n",
    "\t\tEach agent consumes its own served posts\n",
    "\t\t'''\n",
    "\t\tself.posts = self.agent_opinions[:self.num_posters] \t\t\t\t\t\t\t\t# posts are the opinions of the posting agents\n",
    "\t\tself.posts += np.random.normal(scale=self.n, size=self.posts.shape) # add noise to posts\n",
    "\t\tself.posts = np.clip(self.posts, -1, 1) \t\t\t\t\t\t\t\t\t\t\t\t\t\t# clip posts to [-1, 1]\n",
    "\n",
    "\t\tif self.pb or self.rb:\n",
    "\t\t\tctc = self.serve_posts()\n",
    "\t\t\ttiled_posts = np.tile(self.posts, (NUM_AGENTS, 1))\n",
    "\t\t\tsort_order = np.argsort(ctc.T, axis=1)[:, ::-1]\n",
    "\t\t\ttiled_posts = np.take_along_axis(tiled_posts, sort_order, axis=1)\n",
    "\n",
    "\t\t\tfor i in range(self.posts_per_day):\n",
    "\t\t\t\tselected_posts = tiled_posts[:, i]\n",
    "\t\t\t\tself.change_agent_opinions(selected_posts)\n",
    "\t\telse:\n",
    "\t\t\tselected_posts = np.random.choice(self.posts, self.posts_per_day)\n",
    "\t\t\tfor i in range(self.posts_per_day):\n",
    "\t\t\t\tposts_i = np.tile(selected_posts[i], NUM_AGENTS)\n",
    "\t\t\t\tself.change_agent_opinions(posts_i)\n",
    "\t\t\n",
    "\t\tself.t_agent_opinion = np.vstack((self.t_agent_opinion, self.agent_opinions))\n",
    "\t\tself.t += 1\n",
    "\n",
    "\t\n",
    "\tdef converged(self):\n",
    "\t\t'''\n",
    "\t\tReturn True if no opinions have changed in the last CONVERGENCE_NUM time steps\n",
    "\t\t'''\n",
    "\t\tif np.all(self.agent_opinions == self.prev_opinions):\n",
    "\t\t\tself.num_same += 1\n",
    "\t\telse:\n",
    "\t\t\tself.prev_opinions = self.agent_opinions.copy()\n",
    "\t\t\tself.num_same = 0\n",
    "\n",
    "\t\treturn self.num_same == CONVERGENCE_NUM\n",
    "\n",
    "\n",
    "\tdef simulate(self):\n",
    "\t\t'''\n",
    "\t\tExecute the specified time steps, or until convergence of opinions\n",
    "\t\t'''\n",
    "\t\tfor i in range(NUM_TIME_STEPS):\n",
    "\t\t\tif self.verbose:\n",
    "\t\t\t\tprint(f'Time step {i}')\n",
    "\t\t\tself.time_step()\n",
    "\t\t\tif self.converged():\n",
    "\t\t\t\treturn\n",
    "\n",
    "\n",
    "\tdef fractions(self):\n",
    "\t\t'''\n",
    "\t\tReturn the fractions of agents holding positive and negative opinions\n",
    "\t\t'''\n",
    "\t\tpos = np.sum(self.agent_opinions > POLARISATION_CUTOFF) / NUM_AGENTS\n",
    "\t\tneg = np.sum(self.agent_opinions < -POLARISATION_CUTOFF) / NUM_AGENTS\n",
    "\n",
    "\t\tif self.verbose:\n",
    "\t\t\tprint(f'Fraction positive {pos}')\n",
    "\t\t\tprint(f'Fraction negative {neg}')\n",
    "\n",
    "\t\treturn {1: pos, -1: neg}\n",
    "\t\n",
    "\n",
    "\tdef polarisation(self):\n",
    "\t\t'''\n",
    "\t\tReturn polarisation value between [0, 1]\n",
    "\t\t'''\n",
    "\t\treturn min(self.fractions().values())\n",
    "\n",
    "\n",
    "\tdef graph(self):\n",
    "\t\t'''\n",
    "\t\tGraph every agent's opinion changing over time\n",
    "\t\t'''\n",
    "\t\t_, ax = plt.subplots()\n",
    "\t\tfor i in range(NUM_AGENTS):\n",
    "\t\t\tax.plot(self.t_agent_opinion[:, i], label=i)"
   ]
  },
  {
   "cell_type": "markdown",
   "metadata": {},
   "source": [
    "Run a single simulation with default parameters:"
   ]
  },
  {
   "cell_type": "code",
   "execution_count": null,
   "metadata": {},
   "outputs": [],
   "source": [
    "m = MediaPlatform(b=0.6, poster_dist='centered')\n",
    "m.simulate()\n",
    "print('Polarised proportions', m.fractions())\n",
    "print(\"Platform's opinion\", m.platform_opinion)\n",
    "m.graph()\n",
    "plt.title(\"Each agent's opinion per time step\")"
   ]
  },
  {
   "cell_type": "markdown",
   "metadata": {},
   "source": [
    "Running many simulations to collect data was done in a separate python file, simulate.py, provided."
   ]
  },
  {
   "cell_type": "markdown",
   "metadata": {},
   "source": [
    "Graph bias vs polarisation"
   ]
  },
  {
   "cell_type": "code",
   "execution_count": null,
   "metadata": {},
   "outputs": [],
   "source": [
    "\n",
    "# load the data\n",
    "\n",
    "data = []\n",
    "\n",
    "file = 'data/bias-vs-polarisation/data-p{}-c{}-plat0-rec0.json'\n",
    "\n",
    "for p, c in ((0.25, 0.1), (0.5, 0.1), (0.75, 0.1), (0.5, 0.3), (0.5, 0.5)):\n",
    "\twith open(file.format(p, c), 'r') as f:\n",
    "\t\tdata.append(json.load(f)['data'])"
   ]
  },
  {
   "cell_type": "code",
   "execution_count": null,
   "metadata": {},
   "outputs": [],
   "source": [
    "def plot_avg(data, label):\n",
    "\t'''\n",
    "\tPlots the average polarisation for each level of bias in the data.\n",
    "\t'''\n",
    "\n",
    "\tbs, ps = zip(*list(data.items()))\n",
    "\tbs = [float(b) for b in bs]\n",
    "\n",
    "\tavg_ps = []\n",
    "\tfor p in ps:\n",
    "\t\tavg_ps.append(sum(p) / len(p))\n",
    "\t\n",
    "\tplt.plot(bs, avg_ps, label=label)"
   ]
  },
  {
   "cell_type": "code",
   "execution_count": null,
   "metadata": {},
   "outputs": [],
   "source": [
    "# plot each dataset\n",
    "\n",
    "plot_avg(data[0], 'p=0.25, c=0.1')\n",
    "plot_avg(data[1], 'p=0.5, c=0.1')\n",
    "plot_avg(data[2], 'p=0.75, c=0.1')\n",
    "plot_avg(data[3], 'p=0.5, c=0.3')\n",
    "plot_avg(data[4], 'p=0.5, c=0.5')\n",
    "\n",
    "plt.legend()\n",
    "plt.xlabel('Bias')\n",
    "plt.ylabel('Average polarisation')"
   ]
  },
  {
   "cell_type": "code",
   "execution_count": null,
   "metadata": {},
   "outputs": [],
   "source": [
    "def variance(lst):\n",
    "\t'''\n",
    "\tReturns the variance of a list of floats.\n",
    "\t'''\n",
    "\tavg = sum(lst) / len(lst)\n",
    "\treturn sum([(x - avg)**2 for x in lst]) / len(lst)\n",
    "\n",
    "def plot_var(data, label):\n",
    "\t'''\n",
    "\tPlots the variance of the polarisation for a data set.\n",
    "\t'''\n",
    "\tbs, ps = zip(*list(data.items()))\n",
    "\tbs = [float(b) for b in bs]\n",
    "\n",
    "\tavg_ps = []\n",
    "\tfor p in ps:\n",
    "\t\tavg_ps.append(variance(p))\n",
    "\t\n",
    "\tplt.plot(bs, avg_ps, label=label)"
   ]
  },
  {
   "cell_type": "code",
   "execution_count": null,
   "metadata": {},
   "outputs": [],
   "source": [
    "plot_var(data[0], 'p=0.25, c=0.1')\n",
    "plot_var(data[1], 'p=0.5, c=0.1')\n",
    "plot_var(data[2], 'p=0.75, c=0.1')\n",
    "plot_var(data[3], 'p=0.5, c=0.3')\n",
    "plot_var(data[4], 'p=0.5, c=0.5')\n",
    "\n",
    "plt.legend()\n",
    "plt.xlabel('Bias')\n",
    "plt.ylabel('Polarisation variance')"
   ]
  },
  {
   "cell_type": "markdown",
   "metadata": {},
   "source": [
    "Here we find the peaks of the polarisation variance graph to estimate the critical bias value B. We observe the critical bias value B = 0.3, about which polarisation changes rapidly."
   ]
  },
  {
   "cell_type": "code",
   "execution_count": null,
   "metadata": {},
   "outputs": [],
   "source": [
    "peaks = []\n",
    "\n",
    "for d in data:\n",
    "\tvars = {}\n",
    "\tfor b, ps in d.items():\n",
    "\t\tvars[b] = variance(ps)\n",
    "\t\n",
    "\tpeaks.append(max(d.keys(), key=lambda b: vars[b]))\n",
    "\n",
    "peaks\n"
   ]
  },
  {
   "cell_type": "markdown",
   "metadata": {},
   "source": [
    "In the next data sets, the platform bias and recommendation bias values are introduced to the simulations. We graph the proportional of agents conforming to platform's opinion against the ratio platform bias / recommendation bias."
   ]
  },
  {
   "cell_type": "code",
   "execution_count": null,
   "metadata": {},
   "outputs": [],
   "source": [
    "\n",
    "# load the data\n",
    "\n",
    "file = 'data/{}-vs-polarisation/data-b{}-p0.5-c0.1-{}1.json'\n",
    "\n",
    "platform_data = []\n",
    "rec_data = []\n",
    "\n",
    "for b in [0, 0.25, 0.5, 0.75]:\n",
    "\twith open(file.format('platform', b, 'rec'), 'r') as f:\n",
    "\t\tplatform_data.append(json.load(f)['data'])\n",
    "\n",
    "\twith open(file.format('rec', b, 'platform'), 'r') as f:\n",
    "\t\trec_data.append(json.load(f)['data'])"
   ]
  },
  {
   "cell_type": "code",
   "execution_count": null,
   "metadata": {},
   "outputs": [],
   "source": [
    "def get_data(data):\n",
    "\t'''\n",
    "\tExtracts the relevant data from the json data in the format [xs, ys] for graphing.\n",
    "\t'''\n",
    "\n",
    "\txs = []\n",
    "\tys = []\n",
    "\tfor key, val in data.items():\n",
    "\t\txs.append(float(key))\n",
    "\t\ty = []\n",
    "\t\tfor v in val:\n",
    "\t\t\ty.append(float(v[1] if v[0] == 1 else v[2]))\n",
    "\t\tys.append(sum(y) / len(y))\n",
    "\treturn xs, ys"
   ]
  },
  {
   "cell_type": "code",
   "execution_count": null,
   "metadata": {},
   "outputs": [],
   "source": [
    "def plot_conform(data, xlabel):\n",
    "\t'''\n",
    "\tPlots the average proportion of agents that agree with the platform.\n",
    "\t'''\n",
    "\n",
    "\txs = []\n",
    "\tys = []\n",
    "\n",
    "\tfor d in data:\n",
    "\t\tx, y = get_data(d)\n",
    "\t\txs.append(x)\n",
    "\t\tys.append(y)\n",
    "\n",
    "\tfor i, b in enumerate([0, 0.25, 0.5, 0.75]):\n",
    "\t\tplt.plot(xs[i], ys[i], label=f'b={b}')\n",
    "\n",
    "\tplt.legend()\n",
    "\tplt.xlabel(xlabel)\n",
    "\tplt.ylabel('Average fraction conforming to platform')"
   ]
  },
  {
   "cell_type": "code",
   "execution_count": null,
   "metadata": {},
   "outputs": [],
   "source": [
    "plot_conform(platform_data, 'Platform bias / Recommendation bias')"
   ]
  },
  {
   "cell_type": "markdown",
   "metadata": {},
   "source": [
    "Graph fraction of agents conforming to platform's opinion against level of recommendation bias"
   ]
  },
  {
   "cell_type": "code",
   "execution_count": null,
   "metadata": {},
   "outputs": [],
   "source": [
    "plot_conform(rec_data, 'Recommendation bias / Platform bias')"
   ]
  },
  {
   "cell_type": "markdown",
   "metadata": {},
   "source": [
    "In the following sections, we plot the polarisation values as heatmaps with varying agent bias and PB / RB ratios, for different poster opinion distributions."
   ]
  },
  {
   "cell_type": "code",
   "execution_count": null,
   "metadata": {},
   "outputs": [],
   "source": [
    "\n",
    "a1 = np.load('data/platform-vs-agent-bias/data-p0.3-c0.1-n0-uniform.npy')\n",
    "a2 = np.load('data/platform-vs-agent-bias/data-p0.3-c0.1-n0-bimodal.npy')\n",
    "a3 = np.load('data/platform-vs-agent-bias/data-p0.3-c0.1-n0-centered.npy')\n",
    "a4 = np.load('data/platform-vs-agent-bias/data-p0.3-c0.1-n0-skewed.npy')\n",
    "\n",
    "def plot_model(arr, ax, title):\n",
    "\tim = ax.imshow(arr, cmap='seismic', interpolation='spline36', origin='lower', vmin=0.4, vmax=1.0)\n",
    "\tax.set_title(title, fontsize=12)\n",
    "\tax.set_xticks(np.arange(10, 100, 10), np.round(np.linspace(0.2, 1.8, 9), 2), rotation=45)\n",
    "\tax.set_yticks(np.arange(10, 100, 10), np.round(np.linspace(0.1, 0.9, 9), 2))\n",
    "\treturn im\n",
    "\n",
    "fig, axs = plt.subplots(2, 2, figsize=(12, 12), sharex=True, sharey=True)\n",
    "\n",
    "im1 = plot_model(a1, axs[0, 0], 'Uniform Distribution')\n",
    "plot_model(a2, axs[1, 0], 'Bimodal Distribution')\n",
    "plot_model(a3, axs[0, 1], 'Centered Distribution')\n",
    "plot_model(a4, axs[1, 1], 'Skewed Distribution')\n",
    "\n",
    "plt.suptitle('Platform vs Agent Bias for Different Poster Opinion Distributions', fontsize=16)\n",
    "\n",
    "cbax_ax = fig.add_axes([0.92, 0.15, 0.01, 0.7])\n",
    "cbar = fig.colorbar(im1, cax=cbax_ax)\n",
    "\n",
    "cbar.ax.get_yaxis().labelpad = 30\n",
    "cbar.ax.set_ylabel('Proportion of agents aligning with platform opinion', rotation=270, fontsize=12)\n",
    "\n",
    "fig.text(0.5, 0.04, 'Platform Bias / Recommendation Bias, PB / RB', ha='center', fontsize=12)\n",
    "fig.text(0.08, 0.5, 'Agent Bias, B', va='center', rotation='vertical', fontsize=12)\n",
    "\n",
    "# fig.savefig(f'data/platform-vs-agent-bias/heatmap.png', dpi=600, bbox_inches='tight')"
   ]
  },
  {
   "cell_type": "markdown",
   "metadata": {},
   "source": [
    "Below we graph post distribution models corresponding to each heatmap."
   ]
  },
  {
   "cell_type": "code",
   "execution_count": null,
   "metadata": {},
   "outputs": [],
   "source": [
    "def plot_poster_distribution_model(dist):\n",
    "\topinions = np.arange(-1.0, 1.0, 0.01)\n",
    "\n",
    "\tif dist == 'uniform':\n",
    "\t\tprobs = np.ones_like(opinions)\n",
    "\telif dist == 'bimodal':\n",
    "\t\tprobs = np.cos((opinions + 1) / 2 * np.pi) ** 2\n",
    "\telif dist == 'centered':\n",
    "\t\tprobs = np.cos(opinions / 2 * np.pi) ** 2\n",
    "\telif dist == 'skewed':\n",
    "\t\tprobs = np.cos((opinions + 1) / 4 * np.pi) ** 2\n",
    "\telse:\n",
    "\t\traise ValueError('Invalid poster distribution')\n",
    "\t\n",
    "\tprobs /= np.sum(probs)\n",
    "\tfig, ax = plt.subplots(figsize=(8, 6))\n",
    "\tax.plot(opinions, probs)\n",
    "\tax.set_yticks([])"
   ]
  },
  {
   "cell_type": "code",
   "execution_count": null,
   "metadata": {},
   "outputs": [],
   "source": [
    "plot_poster_distribution_model('uniform')\n",
    "plot_poster_distribution_model('bimodal')\n",
    "plot_poster_distribution_model('centered')\n",
    "plot_poster_distribution_model('skewed')"
   ]
  }
 ],
 "metadata": {
  "kernelspec": {
   "display_name": "venv",
   "language": "python",
   "name": "python3"
  },
  "language_info": {
   "codemirror_mode": {
    "name": "ipython",
    "version": 3
   },
   "file_extension": ".py",
   "mimetype": "text/x-python",
   "name": "python",
   "nbconvert_exporter": "python",
   "pygments_lexer": "ipython3",
   "version": "3.11.4"
  }
 },
 "nbformat": 4,
 "nbformat_minor": 2
}
